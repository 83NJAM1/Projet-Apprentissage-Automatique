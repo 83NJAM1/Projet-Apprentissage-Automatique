{
 "cells": [
  {
   "cell_type": "markdown",
   "id": "febc102f-a3b2-42f4-800c-ef30e5a91ac4",
   "metadata": {},
   "source": [
    "# TP - Régression linéaire et algorithme de descente du gradient\n",
    "\n",
    "Le TP porte sur des données collectées au début des années 1970 par les services de la ville de Boston (USA) au sujet du logement dans divers quartiers :\n",
    "* ...\n",
    "* 6- AGE : proportion de logements occupés par leur propriétaires et construits avant 1940\n",
    "* 7- DIS : distance (pondérée) à 5 bassins d’emplois\n",
    "* ...\n",
    "* 12- LSTAT : % de la population de milieu socio-économique plus défavorisé\n",
    "* 13- MEDV : valeur médiane des logements occupés par leur propriétaires (×$1, 000)\n",
    "\n",
    "\n",
    "L'**objectif** est d'étudier le lien entre la valeur des logements d'un quartier et l'ancienneté, la distance aux bassins d'emploi et le niveau socio-économique du quartier.\n",
    "\n",
    "Note : les données ont été originellement publiées par Harrison, D. and Rubinfeld, D.L. _Hedonic prices and the demand for clean air_, J. Environ. Economics &\n",
    "Management, vol.5, 81-102, 1978."
   ]
  },
  {
   "cell_type": "code",
   "execution_count": 2,
   "id": "ab84df42-5cf3-4af4-9aa1-93552ab40f52",
   "metadata": {},
   "outputs": [],
   "source": [
    "from sklearn import datasets # donnees\n",
    "import os # rep de travail\n",
    "import pandas as pd # data analysis\n",
    "from scipy import stats # stat desc\n",
    "import matplotlib.pyplot as plt # graphiques\n",
    "import numpy as np # maths\n",
    "import seaborn as sns"
   ]
  },
  {
   "cell_type": "code",
   "execution_count": null,
   "id": "6cc0538a-550e-4deb-9396-c255df135863",
   "metadata": {},
   "outputs": [],
   "source": []
  }
 ],
 "metadata": {
  "kernelspec": {
   "display_name": "Python 3 (ipykernel)",
   "language": "python",
   "name": "python3"
  },
  "language_info": {
   "codemirror_mode": {
    "name": "ipython",
    "version": 3
   },
   "file_extension": ".py",
   "mimetype": "text/x-python",
   "name": "python",
   "nbconvert_exporter": "python",
   "pygments_lexer": "ipython3",
   "version": "3.11.7"
  }
 },
 "nbformat": 4,
 "nbformat_minor": 5
}
